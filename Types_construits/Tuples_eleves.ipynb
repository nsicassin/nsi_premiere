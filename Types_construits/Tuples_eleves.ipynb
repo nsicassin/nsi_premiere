{
 "cells": [
  {
   "cell_type": "markdown",
   "metadata": {},
   "source": [
    "# Définition des tuples\n",
    "Les tuples (appelés *p-uplets* dans le programme officiel de NSI) sont une collection d'objets **ordonnée** mais **NON MODIFIABLE**.  \n",
    "Pour rappel :\n",
    "- **chaine de caractères** : ordonnée et non modifiable\n",
    "- **liste** : ordonnée et modifiable\n",
    "- **tuple** : ordonnée et non modifiable \n",
    "\n",
    "\n",
    "Quel peut être l'intérêt d'un tuple par rapport à une liste ?\n",
    "- Justement son caractère protégé : jamais une portion de code ne pourra venir modifier les informations contenues dans le tuple. \n",
    "- L'utilisation des tuples est économe en ressources-système par rapport à une liste (en particulier, parce que sa taille est fixe).\n"
   ]
  },
  {
   "cell_type": "code",
   "execution_count": null,
   "metadata": {
    "collapsed": true
   },
   "outputs": [],
   "source": [
    "monPremierTuple = (3, 5, 6)"
   ]
  },
  {
   "cell_type": "markdown",
   "metadata": {},
   "source": [
    "Un tuple se différencie d'une liste par l'utilisation des parenthèses au lieu des crochets."
   ]
  },
  {
   "cell_type": "code",
   "execution_count": null,
   "metadata": {
    "collapsed": true
   },
   "outputs": [],
   "source": [
    "type(monPremierTuple)"
   ]
  },
  {
   "cell_type": "markdown",
   "metadata": {},
   "source": [
    "À noter qu'un tuple peut être déclaré sans parenthèses. C'est toutefois à éviter."
   ]
  },
  {
   "cell_type": "code",
   "execution_count": null,
   "metadata": {
    "collapsed": true
   },
   "outputs": [],
   "source": [
    "taille = 600, 800"
   ]
  },
  {
   "cell_type": "code",
   "execution_count": null,
   "metadata": {
    "collapsed": true
   },
   "outputs": [],
   "source": [
    "type(taille)"
   ]
  },
  {
   "cell_type": "markdown",
   "metadata": {},
   "source": [
    "## Accès aux éléments d'un tuple\n",
    "Comme pour une liste ou une chaîne de caractère, l'accès se fait par un indice entre **crochets**\n",
    "."
   ]
  },
  {
   "cell_type": "code",
   "execution_count": null,
   "metadata": {
    "collapsed": true
   },
   "outputs": [],
   "source": [
    "a = (12, 25, 6)\n",
    "a[0]"
   ]
  },
  {
   "cell_type": "markdown",
   "metadata": {},
   "source": [
    "## Tentative de modification d'un tuple"
   ]
  },
  {
   "cell_type": "code",
   "execution_count": null,
   "metadata": {
    "collapsed": true
   },
   "outputs": [],
   "source": [
    "a[0] = 4"
   ]
  },
  {
   "cell_type": "markdown",
   "metadata": {},
   "source": [
    "## Parcours d'un tuple\n",
    "On retrouve bien évidemment les deux méthodes utilisables pour les listes :"
   ]
  },
  {
   "cell_type": "code",
   "execution_count": null,
   "metadata": {
    "collapsed": true
   },
   "outputs": [],
   "source": [
    "for k in a :\n",
    "    print(k)"
   ]
  },
  {
   "cell_type": "code",
   "execution_count": null,
   "metadata": {
    "collapsed": true
   },
   "outputs": [],
   "source": [
    "for k in range(len(a)):\n",
    "    print(a[k])"
   ]
  },
  {
   "cell_type": "markdown",
   "metadata": {},
   "source": [
    "## Construction d'une fonction renvoyant un tuple"
   ]
  },
  {
   "cell_type": "code",
   "execution_count": null,
   "metadata": {
    "collapsed": true
   },
   "outputs": [],
   "source": [
    "# fonction renvoyant le tuple (quotient, reste) de la division euclidienne de a par b.\n",
    "def division(a, b):\n",
    "    q = a // b\n",
    "    r = a % b\n",
    "    return (q, r)"
   ]
  },
  {
   "cell_type": "code",
   "execution_count": null,
   "metadata": {
    "collapsed": true
   },
   "outputs": [],
   "source": [
    "division(48,12)"
   ]
  },
  {
   "cell_type": "markdown",
   "metadata": {},
   "source": [
    "### Exercice :\n",
    "On considère deux points A et B d'un repère quelconque. Leurs coordonnées sont des tuples à deux éléments.\n",
    "Écrire une fonction qui prend en argument les coordonnées de deux points et qui renvoie le milieu de ces deux points."
   ]
  },
  {
   "cell_type": "code",
   "execution_count": null,
   "metadata": {
    "collapsed": true
   },
   "outputs": [],
   "source": [
    "A = (3, 12)\n",
    "B = (-4, 5)\n",
    "\n",
    "def milieu(point1, point2):\n",
    "    '''votre code'''"
   ]
  },
  {
   "cell_type": "markdown",
   "metadata": {},
   "source": [
    "La fonction doit fonctionner de cette manière :"
   ]
  },
  {
   "cell_type": "code",
   "execution_count": null,
   "metadata": {
    "collapsed": true
   },
   "outputs": [],
   "source": [
    "milieu(A,B)"
   ]
  },
  {
   "cell_type": "code",
   "execution_count": null,
   "metadata": {
    "collapsed": true
   },
   "outputs": [],
   "source": [
    "C = (45, 123)\n",
    "D = (49, 32)\n",
    "milieu(C,D)"
   ]
  },
  {
   "cell_type": "markdown",
   "metadata": {},
   "source": [
    "### À vous de jouer: exercices utilisant les tuples"
   ]
  },
  {
   "cell_type": "markdown",
   "metadata": {},
   "source": [
    "---\n",
    "#### Exercice 1: Création de tuples"
   ]
  },
  {
   "cell_type": "markdown",
   "metadata": {},
   "source": [
    "On stocke les dates de naissances de quelques personnes en utilisant 4 tableaux (un pour les prénoms, un pour les jours de naissance, un pour les mois de naissance, un pour l'année de naissance) afin de respecter la contrainte d'homogénéité des données dans un tableau:"
   ]
  },
  {
   "cell_type": "code",
   "execution_count": 2,
   "metadata": {
    "collapsed": true
   },
   "outputs": [],
   "source": [
    "noms = [\"Arthur\", \"Mégane\", \"Zoé\", \"Tristan\"]\n",
    "jours = [1, 9, 28, 10]\n",
    "mois = [1, 12, 11, 3]\n",
    "années = [1942, 1906, 1973, 1938]"
   ]
  },
  {
   "cell_type": "markdown",
   "metadata": {},
   "source": [
    "L'objectif de l'exercice est d'écrire une fonction ```crée_tuples_élèves(noms, jours, mois, années)``` prenant pour paramètres des listes de prénoms et de jours/mois/années de naissance, et renvoyant une unique liste contenant des tuples pour chaque élève. Avec les données ci-dessus, le premier élément du tableau renvoyé devra par exemple être ```(\"Arthur\", 1, 1, 1942)```."
   ]
  },
  {
   "cell_type": "code",
   "execution_count": 3,
   "metadata": {
    "collapsed": true
   },
   "outputs": [],
   "source": [
    "def crée_tuples_élèves(noms, jours, mois, années):\n",
    "    \"\"\"Écrire la documentation de la fonction ici\"\"\"\n",
    "    \n",
    "    # Écrire votre code ici\n"
   ]
  },
  {
   "cell_type": "markdown",
   "metadata": {},
   "source": [
    "Pensez à tester votre fonction, par exemple en affichant sa valeur de retour."
   ]
  },
  {
   "cell_type": "markdown",
   "metadata": {},
   "source": [
    "---\n",
    "#### Exercice 2: Réduction de tuples"
   ]
  },
  {
   "cell_type": "markdown",
   "metadata": {},
   "source": [
    "On a vu qu'il n'est possible de modifier un tuple déjà créé: ni en changeant la valeur d'une des composantes, ni en ajoutant en supprimant une composante. \n",
    "\n",
    "Et pourtant, voici ce que l'on demande de faire pour cet exercice:\n",
    "\n",
    "On considère un tableau de tuples de la forme (prénom, nom, jour, mois, année) décrivant un élève et sa date de naissance:"
   ]
  },
  {
   "cell_type": "code",
   "execution_count": 4,
   "metadata": {
    "collapsed": true
   },
   "outputs": [],
   "source": [
    "élèves = [\n",
    "    (\"Sophie\", \"Jacquemin\", 3, 6, 2003),\n",
    "    (\"Zoé\", \"Ledoux\", 1, 2, 2004),\n",
    "    (\"Adrien\", \"Millet\", 8, 6, 2003),\n",
    "    (\"Gilles\", \"Hebert\", 11, 12, 2003),\n",
    "    (\"Andrée\", \"Millet\", 14, 1, 2005),\n",
    "    (\"Françoise\", \"Auger\", 30, 5, 2003),\n",
    "    (\"Margot\", \"Dias-Laurent\", 30, 6, 2003),\n",
    "    (\"Thimothée\", \"Lebreton\", 2, 10, 2004),\n",
    "    (\"Audrey\", \"Monnier\", 30, 12, 2006),\n",
    "    (\"Élisabeth\", \"Lebrun\", 27, 4, 2003)\n",
    "]"
   ]
  },
  {
   "cell_type": "markdown",
   "metadata": {},
   "source": [
    "Écrire une fonction ```réduit_tuples(tableau_élèves)``` prenant pour paramètre un tableau de tuples de la forme précédente, et renvoyant un autre tableau contenant des tuples de la forme (NOM, PRÉNOM) construit à partir des données du premier, dans le même ordre."
   ]
  },
  {
   "cell_type": "code",
   "execution_count": 5,
   "metadata": {
    "collapsed": true
   },
   "outputs": [],
   "source": [
    "def réduit_tuples(tableau_élèves):\n",
    "    \"\"\"Écrire la documentation de la fonction ici\"\"\"\n",
    "    \n",
    "     # Écrire votre code ici"
   ]
  },
  {
   "cell_type": "markdown",
   "metadata": {},
   "source": [
    "Et maintenant, on teste notre fonction:"
   ]
  },
  {
   "cell_type": "code",
   "execution_count": null,
   "metadata": {
    "collapsed": true
   },
   "outputs": [],
   "source": [
    "résultats = réduit_tuples(élèves)\n",
    "assert résultats[0] == (\"JACQUEMIN\", \"SOPHIE\")\n",
    "assert résultats[7] == (\"LEBRETON\", \"THIMOTHÉE\")\n",
    "résultats"
   ]
  },
  {
   "cell_type": "markdown",
   "metadata": {},
   "source": [
    "---\n",
    "#### Exercice 3: Décomposition de tuples"
   ]
  },
  {
   "cell_type": "markdown",
   "metadata": {},
   "source": [
    "Réaliser la tâche inverse de celle proposée à l'exercice précédent: on dispose d'une liste d'élèves, où chaque élève est représenté par un tuple contenant le nom, le prénom et la date de naissance (sur 3 composantes).\n",
    "\n",
    "Écrire une fonction ```décompose_élèves(tableau_élèves)``` renvoyant les 5 tableaux correspondant aux 3 composantes de chaque tuple. On suppose que ```tableau_élèves``` contient uniquement des tuples au bon format (et peut être éventuellement vide)."
   ]
  },
  {
   "cell_type": "code",
   "execution_count": 6,
   "metadata": {
    "collapsed": true
   },
   "outputs": [],
   "source": [
    "def décompose_élèves(tableau_élèves):\n",
    "    \"\"\"Écrire la documentation de la fonction ici\"\"\"\n",
    "    \n",
    "    # Écrire votre code ici\n"
   ]
  },
  {
   "cell_type": "markdown",
   "metadata": {},
   "source": [
    "On pourra tester le code sur le tableau suivant:"
   ]
  },
  {
   "cell_type": "code",
   "execution_count": 7,
   "metadata": {
    "collapsed": true
   },
   "outputs": [],
   "source": [
    "élèves = [\n",
    "    (\"Sophie\", \"Jacquemin\", 3, 6, 2003),\n",
    "    (\"Zoé\", \"Ledoux\", 1, 2, 2004),\n",
    "    (\"Adrien\", \"Millet\", 8, 6, 2003),\n",
    "    (\"Gilles\", \"Hebert\", 11, 12, 2003),\n",
    "    (\"Andrée\", \"Millet\", 14, 1, 2005),\n",
    "    (\"Françoise\", \"Auger\", 30, 5, 2003),\n",
    "    (\"Margot\", \"Dias-Laurent\", 30, 6, 2003),\n",
    "    (\"Thimothée\", \"Lebreton\", 2, 10, 2004),\n",
    "    (\"Audrey\", \"Monnier\", 30, 12, 2006),\n",
    "    (\"Élisabeth\", \"Lebrun\", 27, 4, 2003)\n",
    "]"
   ]
  },
  {
   "cell_type": "code",
   "execution_count": null,
   "metadata": {
    "collapsed": true
   },
   "outputs": [],
   "source": [
    "for tableau in décompose_élèves(élèves):\n",
    "    print(repr(tableau))"
   ]
  }
 ],
 "metadata": {
  "kernelspec": {
   "display_name": "Python 3",
   "language": "python",
   "name": "python3"
  },
  "language_info": {
   "codemirror_mode": {
    "name": "ipython",
    "version": 3
   },
   "file_extension": ".py",
   "mimetype": "text/x-python",
   "name": "python",
   "nbconvert_exporter": "python",
   "pygments_lexer": "ipython3",
   "version": "3.6.1"
  },
  "toc": {
   "base_numbering": 1,
   "nav_menu": {},
   "number_sections": false,
   "sideBar": true,
   "skip_h1_title": false,
   "title_cell": "Table of Contents",
   "title_sidebar": "Contents",
   "toc_cell": false,
   "toc_position": {
    "height": "calc(100% - 180px)",
    "left": "10px",
    "top": "150px",
    "width": "339.167px"
   },
   "toc_section_display": true,
   "toc_window_display": false
  }
 },
 "nbformat": 4,
 "nbformat_minor": 1
}
