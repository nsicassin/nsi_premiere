{
 "cells": [
  {
   "cell_type": "markdown",
   "metadata": {
    "colab_type": "text",
    "id": "lsgN0TV2yUKm"
   },
   "source": [
    "# <center>**TRAITEMENT DE DONNEES EN TABLES**</center>"
   ]
  },
  {
   "cell_type": "markdown",
   "metadata": {
    "colab_type": "text",
    "id": "j7aS1jqsyUKt"
   },
   "source": [
    "Nous présenterons les différentes notions à partir de l'exemple de tableau suivant, tiré du jeu des 7 familles de l'informatique, https://interstices.info/jeu-de-7-familles-de-linformatique/ :\n",
    "\n",
    "Nom|Prénom|année de naissance|année de décès|domaine\n",
    "---|------|------------------|--------------|-------\n",
    "Lovelace|Ada|1815|1852|Algorithmes et programmation\n",
    "Kahn|Gilles|1946|2006|Algorithmes et programmation\n",
    "Hooper|Grace|1906|1992|Algorithmes et programmation\n",
    "Berry|Gérard|1948||Algorithmes et programmation\n",
    "Boole|Georges|1815|1864|Mathématiques et informatique\n",
    "Lions|Jacques-Louis|1928|2001|Mathématiques et informatique\n",
    "Daubechies|Ingrid|1954||Mathématiques et informatique\n",
    "Hypatie d'Alexandrie||355|415|Mathématiques et informatique\n",
    "Shannon|Claude|1916|2001|Systèmes et réseaux\n",
    "Berners-Lee|Tim|1955||Systèmes et réseaux\n",
    "Turing|Alan|1912|1954|Joker\n",
    "\n",
    "\n",
    "L'un des format les plus répandu pour représenter des tableau est le format CSV.\n",
    "Le tableau ci-dessus a été enregistré au format csv dans le fichier \"sept_familles_informatique_1.csv\". \n"
   ]
  },
  {
   "cell_type": "markdown",
   "metadata": {
    "colab_type": "text",
    "id": "VzKoWDnj6gci"
   },
   "source": [
    "*1) Ouvrez et observez ce fichier dans un éditeur de texte (par exemple notepad++) puis dans un tableur. *"
   ]
  },
  {
   "cell_type": "markdown",
   "metadata": {
    "colab_type": "text",
    "id": "rLTUaWOYyUK-"
   },
   "source": [
    "##  Lire un fichier au format CSV"
   ]
  },
  {
   "cell_type": "markdown",
   "metadata": {
    "colab_type": "text",
    "id": "Y3pV9yqFyUK3"
   },
   "source": [
    "**Python et les fichiers csv** :\n",
    "La bibliothèque standard de python contient le module **csv** qui propose des fonctions permettant de lire et enregistrer facilement des fichiers au format csv."
   ]
  },
  {
   "cell_type": "code",
   "execution_count": 2,
   "metadata": {
    "colab": {
     "base_uri": "https://localhost:8080/",
     "height": 238
    },
    "colab_type": "code",
    "collapsed": true,
    "id": "qfZv5RMHyULC",
    "outputId": "07f34df7-778f-4246-e4ff-7736868e2f88"
   },
   "outputs": [],
   "source": [
    "import csv                                      # import de la bilibothèque) csv\n",
    "fichier1=open(\"sept_familles_informatique_1.csv\")# Ouverture du fichier csv\n",
    "table1=list(csv.reader(fichier1))                 #la fonction list convertit le fichier en un tableau Python"
   ]
  },
  {
   "cell_type": "code",
   "execution_count": 3,
   "metadata": {
    "colab": {},
    "colab_type": "code",
    "id": "lINyPq4gyULR"
   },
   "outputs": [
    {
     "data": {
      "text/plain": [
       "[['Nom', 'Prénom', 'année1', 'année2', 'domaine'],\n",
       " ['Lovelace', 'Ada', '1815', '1852', 'Algorithmes et programmation'],\n",
       " ['Kahn', 'Gilles', '1946', '2006', 'Algorithmes et programmation'],\n",
       " ['Hooper', 'Grace', '1906', '1992', 'Algorithmes et programmation'],\n",
       " ['Berry', 'Gérard', '1948', '', 'Algorithmes et programmation'],\n",
       " ['Boole', 'Georges', '1815', '1864', 'Mathématiques et informatique'],\n",
       " ['Lions', 'Jacques-Louis', '1928', '2001', 'Mathématiques et informatique'],\n",
       " ['Daubechies', 'Ingrid', '1954', '', 'Mathématiques et informatique'],\n",
       " [\"Hypatie d'Alexandrie\", '', '355', '415', 'Mathématiques et informatique'],\n",
       " ['Shannon', 'Claude', '1916', '2001', 'Systèmes et réseaux'],\n",
       " ['Berners-Lee', 'Tim', '1955', '', 'Systèmes et réseaux'],\n",
       " ['Turing', 'Alan', '1912', '1954', 'Joker']]"
      ]
     },
     "execution_count": 3,
     "metadata": {},
     "output_type": "execute_result"
    }
   ],
   "source": [
    "table1"
   ]
  },
  {
   "cell_type": "markdown",
   "metadata": {
    "colab_type": "text",
    "id": "t4jUCGl5yULh"
   },
   "source": [
    "Si le séparateur n'est pas la virgule, comme c'est le cas dans le fichier \"sept_familles_informatique_1_pv.csv\", on n'obtient pas le résultat escompté :"
   ]
  },
  {
   "cell_type": "code",
   "execution_count": 7,
   "metadata": {
    "colab": {},
    "colab_type": "code",
    "id": "F3y1z30hyULj"
   },
   "outputs": [
    {
     "data": {
      "text/plain": [
       "[['Nom;Prénom;année1;année2;domaine'],\n",
       " ['Lovelace;Ada;1815;1852;Algorithme et programmation'],\n",
       " ['Kahn;Gilles;1946;2006;Algorithme et programmation'],\n",
       " ['Hooper;Grace;1906;1992;Algorithme et programmation'],\n",
       " ['Berry;Gérard;1948;;Algorithme et programmation'],\n",
       " ['Boole;Georges;1815;1864;Mathématiques et informatique'],\n",
       " ['Lions;Jacques-Louis;1928;2001;Mathématiques et informatique'],\n",
       " ['Daubechies;Ingrid;1954;;Mathématiques et informatique'],\n",
       " [\"Hypatie d'Alexandrie;;355;415;Mathématiques et informatique\"],\n",
       " ['Shannon;Claude;1916;2001;Systèmes et réseaux'],\n",
       " ['Berners-Lee;Tim;1955;;Systèmes et réseaux'],\n",
       " ['Turing;Alan;1912;1954;Joker']]"
      ]
     },
     "execution_count": 7,
     "metadata": {},
     "output_type": "execute_result"
    }
   ],
   "source": [
    "fichier1_pv=open(\"sept_familles_informatique_1_pv.csv\")\n",
    "table1_pv=list(csv.reader(fichier1_pv))                 \n",
    "fichier1_pv.close\n",
    "table1_pv"
   ]
  },
  {
   "cell_type": "markdown",
   "metadata": {
    "colab_type": "text",
    "id": "ynpsyxagyULq"
   },
   "source": [
    "Comme python ne trouve pas de virgule dans les lignes, il considère que chaque ligne est réduite à une seule grande chaine de caractères.\n",
    "\n",
    "On peut cependant indiquer le séparateur à utiliser avec l'argument **delimiter**."
   ]
  },
  {
   "cell_type": "code",
   "execution_count": 8,
   "metadata": {
    "colab": {},
    "colab_type": "code",
    "id": "VjTuzTBIyULr"
   },
   "outputs": [
    {
     "data": {
      "text/plain": [
       "[['Nom', 'Prénom', 'année1', 'année2', 'domaine'],\n",
       " ['Lovelace', 'Ada', '1815', '1852', 'Algorithme et programmation'],\n",
       " ['Kahn', 'Gilles', '1946', '2006', 'Algorithme et programmation'],\n",
       " ['Hooper', 'Grace', '1906', '1992', 'Algorithme et programmation'],\n",
       " ['Berry', 'Gérard', '1948', '', 'Algorithme et programmation'],\n",
       " ['Boole', 'Georges', '1815', '1864', 'Mathématiques et informatique'],\n",
       " ['Lions', 'Jacques-Louis', '1928', '2001', 'Mathématiques et informatique'],\n",
       " ['Daubechies', 'Ingrid', '1954', '', 'Mathématiques et informatique'],\n",
       " [\"Hypatie d'Alexandrie\", '', '355', '415', 'Mathématiques et informatique'],\n",
       " ['Shannon', 'Claude', '1916', '2001', 'Systèmes et réseaux'],\n",
       " ['Berners-Lee', 'Tim', '1955', '', 'Systèmes et réseaux'],\n",
       " ['Turing', 'Alan', '1912', '1954', 'Joker']]"
      ]
     },
     "execution_count": 8,
     "metadata": {},
     "output_type": "execute_result"
    }
   ],
   "source": [
    "fichier1_pv=open(\"sept_familles_informatique_1_pv.csv\")\n",
    "table1_pv=list(csv.reader(fichier1_pv,delimiter=\";\"))                \n",
    "fichier1_pv.close\n",
    "table1_pv"
   ]
  },
  {
   "cell_type": "markdown",
   "metadata": {},
   "source": [
    "*2) Quelle instruction permet d'afficher le domaine d'Ada Lovelace ?*"
   ]
  },
  {
   "cell_type": "code",
   "execution_count": null,
   "metadata": {
    "collapsed": true
   },
   "outputs": [],
   "source": []
  },
  {
   "cell_type": "markdown",
   "metadata": {},
   "source": [
    "*3) Quelle instruction permet d'afficher toute la ligne correspondant à \n",
    "Georges Boole ?*"
   ]
  },
  {
   "cell_type": "code",
   "execution_count": null,
   "metadata": {
    "collapsed": true
   },
   "outputs": [],
   "source": []
  },
  {
   "cell_type": "markdown",
   "metadata": {},
   "source": [
    "Cette façon d'ouvrir un fichier csv comporte plusieurs inconvénients :\n",
    "- la première ligne listant les attributs de notre table a été chargée comme une ligne de donnée\n",
    "- nous sommes obligés de nous souvenir de la correspondance entre l'attribut et le numéro de colonne correspondant\n",
    "\n",
    "La bibliothèque CSV possède une fonction DictReader permettant de convertir un fichier CSV en dictionnaire ordonné"
   ]
  },
  {
   "cell_type": "code",
   "execution_count": 9,
   "metadata": {},
   "outputs": [
    {
     "data": {
      "text/plain": [
       "[OrderedDict([('Nom', 'Lovelace'),\n",
       "              ('Prénom', 'Ada'),\n",
       "              ('année1', '1815'),\n",
       "              ('année2', '1852'),\n",
       "              ('domaine', 'Algorithmes et programmation')]),\n",
       " OrderedDict([('Nom', 'Kahn'),\n",
       "              ('Prénom', 'Gilles'),\n",
       "              ('année1', '1946'),\n",
       "              ('année2', '2006'),\n",
       "              ('domaine', 'Algorithmes et programmation')]),\n",
       " OrderedDict([('Nom', 'Hooper'),\n",
       "              ('Prénom', 'Grace'),\n",
       "              ('année1', '1906'),\n",
       "              ('année2', '1992'),\n",
       "              ('domaine', 'Algorithmes et programmation')]),\n",
       " OrderedDict([('Nom', 'Berry'),\n",
       "              ('Prénom', 'Gérard'),\n",
       "              ('année1', '1948'),\n",
       "              ('année2', ''),\n",
       "              ('domaine', 'Algorithmes et programmation')]),\n",
       " OrderedDict([('Nom', 'Boole'),\n",
       "              ('Prénom', 'Georges'),\n",
       "              ('année1', '1815'),\n",
       "              ('année2', '1864'),\n",
       "              ('domaine', 'Mathématiques et informatique')]),\n",
       " OrderedDict([('Nom', 'Lions'),\n",
       "              ('Prénom', 'Jacques-Louis'),\n",
       "              ('année1', '1928'),\n",
       "              ('année2', '2001'),\n",
       "              ('domaine', 'Mathématiques et informatique')]),\n",
       " OrderedDict([('Nom', 'Daubechies'),\n",
       "              ('Prénom', 'Ingrid'),\n",
       "              ('année1', '1954'),\n",
       "              ('année2', ''),\n",
       "              ('domaine', 'Mathématiques et informatique')]),\n",
       " OrderedDict([('Nom', \"Hypatie d'Alexandrie\"),\n",
       "              ('Prénom', ''),\n",
       "              ('année1', '355'),\n",
       "              ('année2', '415'),\n",
       "              ('domaine', 'Mathématiques et informatique')]),\n",
       " OrderedDict([('Nom', 'Shannon'),\n",
       "              ('Prénom', 'Claude'),\n",
       "              ('année1', '1916'),\n",
       "              ('année2', '2001'),\n",
       "              ('domaine', 'Systèmes et réseaux')]),\n",
       " OrderedDict([('Nom', 'Berners-Lee'),\n",
       "              ('Prénom', 'Tim'),\n",
       "              ('année1', '1955'),\n",
       "              ('année2', ''),\n",
       "              ('domaine', 'Systèmes et réseaux')]),\n",
       " OrderedDict([('Nom', 'Turing'),\n",
       "              ('Prénom', 'Alan'),\n",
       "              ('année1', '1912'),\n",
       "              ('année2', '1954'),\n",
       "              ('domaine', 'Joker')])]"
      ]
     },
     "execution_count": 9,
     "metadata": {},
     "output_type": "execute_result"
    }
   ],
   "source": [
    "fichier1=open(\"sept_familles_informatique_1.csv\")# Ouverture du fichier csv\n",
    "table_dict1=list(csv.DictReader(fichier1)) \n",
    "table_dict1"
   ]
  },
  {
   "cell_type": "markdown",
   "metadata": {},
   "source": [
    "On constate que la ligne d'en tête n'est pas stockée dans le tableau mais utilisée pour créer les clés du dictionnaire."
   ]
  },
  {
   "cell_type": "markdown",
   "metadata": {},
   "source": [
    "*4) Pour répondre à la question précédente (Quelle instruction permet de déterminer le domaine de travail d'Ada Lovelace?) nous devons à présent écrire :*"
   ]
  },
  {
   "cell_type": "code",
   "execution_count": null,
   "metadata": {
    "scrolled": true
   },
   "outputs": [],
   "source": []
  },
  {
   "cell_type": "markdown",
   "metadata": {},
   "source": [
    "*5) Quelle instruction permet d'afficher un tableau contenant l'ensemble des clés du dictionnaire Table ?*"
   ]
  },
  {
   "cell_type": "code",
   "execution_count": null,
   "metadata": {},
   "outputs": [],
   "source": []
  },
  {
   "cell_type": "markdown",
   "metadata": {
    "colab_type": "text",
    "id": "MYIdenVhyULw"
   },
   "source": [
    "## Recherche dans une table\n"
   ]
  },
  {
   "cell_type": "markdown",
   "metadata": {
    "colab_type": "text",
    "id": "zsPEMO5uyUL-"
   },
   "source": [
    "#### Récupération d'une ligne"
   ]
  },
  {
   "cell_type": "markdown",
   "metadata": {},
   "source": [
    "*6) Complétez la  fonction **affiche(table, nom)** qui renvoie la ligne correspondant à un nom d'informaticien.* \n",
    "\n",
    "*Retour attendu :*  \n",
    "OrderedDict([('Nom', 'Shannon'), ('Prénom', 'Claude'), ('année1', '1916'), ('année2', '2001'), ('domaine', 'Systèmes et réseaux')]"
   ]
  },
  {
   "cell_type": "code",
   "execution_count": 12,
   "metadata": {
    "colab": {},
    "colab_type": "code",
    "id": "5rspy5SSyUL_"
   },
   "outputs": [
    {
     "name": "stdout",
     "output_type": "stream",
     "text": [
      "None\n"
     ]
    }
   ],
   "source": [
    "def affiche(table, nom):\n",
    "    \"\"\"Votre code\"\"\"\n",
    "\n",
    "##tests\n",
    "ligne = affiche(table_dict1, \"Shannon\")\n",
    "print(ligne)"
   ]
  },
  {
   "cell_type": "markdown",
   "metadata": {},
   "source": [
    "#### Récupération d'une donnée simple"
   ]
  },
  {
   "cell_type": "markdown",
   "metadata": {},
   "source": [
    "*7) Ecrire une fonction **domaine_de(table , nom)** qui renvoie le domaine de travail de l'informaticien désigné*"
   ]
  },
  {
   "cell_type": "code",
   "execution_count": null,
   "metadata": {
    "collapsed": true
   },
   "outputs": [],
   "source": []
  },
  {
   "cell_type": "markdown",
   "metadata": {},
   "source": [
    "### Comptage d'occurence"
   ]
  },
  {
   "cell_type": "markdown",
   "metadata": {},
   "source": [
    "*8) Ecrire une fonction **nombre_de_cartes(table,domaine)** comptant le nombre de personnes travaillant sur le domaine demandé*\n",
    "\n",
    "*Retour attendu :*\n",
    "\n",
    "nombre_de_cartes(table_dict,\"Algorithmes et programmation\")\n",
    "\n",
    "4"
   ]
  },
  {
   "cell_type": "code",
   "execution_count": null,
   "metadata": {
    "collapsed": true
   },
   "outputs": [],
   "source": []
  },
  {
   "cell_type": "markdown",
   "metadata": {},
   "source": [
    "### Sélection de lignes"
   ]
  },
  {
   "cell_type": "markdown",
   "metadata": {},
   "source": [
    "*9) Ecrire une fonction **encore_en_vie(table)** produisant un nouveau tableau constitué des informaticiens encore en vie.*"
   ]
  },
  {
   "cell_type": "code",
   "execution_count": null,
   "metadata": {
    "collapsed": true
   },
   "outputs": [],
   "source": []
  },
  {
   "cell_type": "markdown",
   "metadata": {},
   "source": [
    "*10) Ecrire une fonction **encore_en_vie_2_(table,domaine)** produisant un nouveau tableau constitué des informaticiens encore en vie dans un domaine fixé.*"
   ]
  },
  {
   "cell_type": "code",
   "execution_count": null,
   "metadata": {
    "collapsed": true
   },
   "outputs": [],
   "source": []
  },
  {
   "cell_type": "markdown",
   "metadata": {},
   "source": [
    "## Tri d'une table"
   ]
  },
  {
   "cell_type": "markdown",
   "metadata": {
    "colab_type": "text",
    "id": "4ZUYcxFJyUNC"
   },
   "source": [
    "###  Trier une table suivant une colonne"
   ]
  },
  {
   "cell_type": "markdown",
   "metadata": {
    "colab_type": "text",
    "id": "sxIa_QuQyUNE"
   },
   "source": [
    "Lorsque l'on manipule des données en table, il est fréquent de vouloir les trier. Dans notre exemple, on peut vouloir afficher la liste de tous les informaticiens par ordre alphabétique, ou part date de naissance.\n",
    "\n",
    "Dans cette partie, nous allons utiliser les fonctions de tri proposées par Python :\n",
    "- La fonction **sorted(liste)** qui renvoie une copie triée dans l'ordre croissant de liste.\n",
    "- La méthode **liste.sort()** qui trie dans l'ordre croisssant la liste en la modifiant. On évitera donc cette méthode pour ne pas perdre nos données.\n",
    "\n",
    "On peut passer à **sort** ou à **sorted** un argument **key=une_fonction**.\n",
    "La liste est alors triée selon les valeurs renvoyées par une_fonction quand on l'applique à chacun des éléments de la liste.\n"
   ]
  },
  {
   "cell_type": "code",
   "execution_count": 13,
   "metadata": {},
   "outputs": [
    {
     "name": "stdout",
     "output_type": "stream",
     "text": [
      "table :  [['Nom', 'Prénom', 'année1', 'année2', 'domaine'], ['Lovelace', 'Ada', '1815', '1852', 'Algorithmes et programmation'], ['Kahn', 'Gilles', '1946', '2006', 'Algorithmes et programmation'], ['Hooper', 'Grace', '1906', '1992', 'Algorithmes et programmation'], ['Berry', 'Gérard', '1948', '', 'Algorithmes et programmation'], ['Boole', 'Georges', '1815', '1864', 'Mathématiques et informatique'], ['Lions', 'Jacques-Louis', '1928', '2001', 'Mathématiques et informatique'], ['Daubechies', 'Ingrid', '1954', '', 'Mathématiques et informatique'], [\"Hypatie d'Alexandrie\", '', '355', '415', 'Mathématiques et informatique'], ['Shannon', 'Claude', '1916', '2001', 'Systèmes et réseaux'], ['Berners-Lee', 'Tim', '1955', '', 'Systèmes et réseaux'], ['Turing', 'Alan', '1912', '1954', 'Joker']]\n",
      "table_triee_1 :  [['Berners-Lee', 'Tim', '1955', '', 'Systèmes et réseaux'], ['Berry', 'Gérard', '1948', '', 'Algorithmes et programmation'], ['Boole', 'Georges', '1815', '1864', 'Mathématiques et informatique'], ['Daubechies', 'Ingrid', '1954', '', 'Mathématiques et informatique'], ['Hooper', 'Grace', '1906', '1992', 'Algorithmes et programmation'], [\"Hypatie d'Alexandrie\", '', '355', '415', 'Mathématiques et informatique'], ['Kahn', 'Gilles', '1946', '2006', 'Algorithmes et programmation'], ['Lions', 'Jacques-Louis', '1928', '2001', 'Mathématiques et informatique'], ['Lovelace', 'Ada', '1815', '1852', 'Algorithmes et programmation'], ['Nom', 'Prénom', 'année1', 'année2', 'domaine'], ['Shannon', 'Claude', '1916', '2001', 'Systèmes et réseaux'], ['Turing', 'Alan', '1912', '1954', 'Joker']]\n"
     ]
    }
   ],
   "source": [
    "table_triee_1=sorted(table1)\n",
    "print(\"table : \",table1)\n",
    "print(\"table_triee_1 : \",table_triee_1)"
   ]
  },
  {
   "cell_type": "markdown",
   "metadata": {},
   "source": [
    "Python ne sait pas comparer des dictionnaires. Pour utiliser la fonction **sorted** sur notre dictionnaire, il faut indiquer un argument permettant à Python de comparer."
   ]
  },
  {
   "cell_type": "code",
   "execution_count": 40,
   "metadata": {},
   "outputs": [
    {
     "ename": "TypeError",
     "evalue": "'<' not supported between instances of 'collections.OrderedDict' and 'collections.OrderedDict'",
     "output_type": "error",
     "traceback": [
      "\u001b[0;31m---------------------------------------------------------------------------\u001b[0m",
      "\u001b[0;31mTypeError\u001b[0m                                 Traceback (most recent call last)",
      "\u001b[0;32m<ipython-input-40-4c1782f47faa>\u001b[0m in \u001b[0;36m<module>\u001b[0;34m()\u001b[0m\n\u001b[0;32m----> 1\u001b[0;31m \u001b[0mtable_triee_1\u001b[0m\u001b[0;34m=\u001b[0m\u001b[0msorted\u001b[0m\u001b[0;34m(\u001b[0m\u001b[0mtable_dict\u001b[0m\u001b[0;34m)\u001b[0m\u001b[0;34m\u001b[0m\u001b[0m\n\u001b[0m",
      "\u001b[0;31mTypeError\u001b[0m: '<' not supported between instances of 'collections.OrderedDict' and 'collections.OrderedDict'"
     ]
    }
   ],
   "source": [
    "table_triee_1=sorted(table_dict) #"
   ]
  },
  {
   "cell_type": "code",
   "execution_count": 14,
   "metadata": {},
   "outputs": [
    {
     "name": "stdout",
     "output_type": "stream",
     "text": [
      "[OrderedDict([('Nom', 'Berners-Lee'), ('Prénom', 'Tim'), ('année1', '1955'), ('année2', ''), ('domaine', 'Systèmes et réseaux')]), OrderedDict([('Nom', 'Berry'), ('Prénom', 'Gérard'), ('année1', '1948'), ('année2', ''), ('domaine', 'Algorithmes et programmation')]), OrderedDict([('Nom', 'Boole'), ('Prénom', 'Georges'), ('année1', '1815'), ('année2', '1864'), ('domaine', 'Mathématiques et informatique')]), OrderedDict([('Nom', 'Daubechies'), ('Prénom', 'Ingrid'), ('année1', '1954'), ('année2', ''), ('domaine', 'Mathématiques et informatique')]), OrderedDict([('Nom', 'Hooper'), ('Prénom', 'Grace'), ('année1', '1906'), ('année2', '1992'), ('domaine', 'Algorithmes et programmation')]), OrderedDict([('Nom', \"Hypatie d'Alexandrie\"), ('Prénom', ''), ('année1', '355'), ('année2', '415'), ('domaine', 'Mathématiques et informatique')]), OrderedDict([('Nom', 'Kahn'), ('Prénom', 'Gilles'), ('année1', '1946'), ('année2', '2006'), ('domaine', 'Algorithmes et programmation')]), OrderedDict([('Nom', 'Lions'), ('Prénom', 'Jacques-Louis'), ('année1', '1928'), ('année2', '2001'), ('domaine', 'Mathématiques et informatique')]), OrderedDict([('Nom', 'Lovelace'), ('Prénom', 'Ada'), ('année1', '1815'), ('année2', '1852'), ('domaine', 'Algorithmes et programmation')]), OrderedDict([('Nom', 'Shannon'), ('Prénom', 'Claude'), ('année1', '1916'), ('année2', '2001'), ('domaine', 'Systèmes et réseaux')]), OrderedDict([('Nom', 'Turing'), ('Prénom', 'Alan'), ('année1', '1912'), ('année2', '1954'), ('domaine', 'Joker')])]\n"
     ]
    }
   ],
   "source": [
    "def Nom(x):\n",
    "    return x[\"Nom\"]\n",
    "table_triee_2=sorted(table_dict1,key=Nom)\n",
    "print(table_triee_2)"
   ]
  },
  {
   "cell_type": "markdown",
   "metadata": {},
   "source": [
    "**Ordre inverse**:\n",
    "Si on veut trier plutôt dans l''ordre inverse, c''est à dire du plus grand\n",
    "au plus petit, il faut ajouter une autre option : reverse=True"
   ]
  },
  {
   "cell_type": "code",
   "execution_count": 15,
   "metadata": {},
   "outputs": [
    {
     "name": "stdout",
     "output_type": "stream",
     "text": [
      "[OrderedDict([('Nom', \"Hypatie d'Alexandrie\"), ('Prénom', ''), ('année1', '355'), ('année2', '415'), ('domaine', 'Mathématiques et informatique')]), OrderedDict([('Nom', 'Berners-Lee'), ('Prénom', 'Tim'), ('année1', '1955'), ('année2', ''), ('domaine', 'Systèmes et réseaux')]), OrderedDict([('Nom', 'Daubechies'), ('Prénom', 'Ingrid'), ('année1', '1954'), ('année2', ''), ('domaine', 'Mathématiques et informatique')]), OrderedDict([('Nom', 'Berry'), ('Prénom', 'Gérard'), ('année1', '1948'), ('année2', ''), ('domaine', 'Algorithmes et programmation')]), OrderedDict([('Nom', 'Kahn'), ('Prénom', 'Gilles'), ('année1', '1946'), ('année2', '2006'), ('domaine', 'Algorithmes et programmation')]), OrderedDict([('Nom', 'Lions'), ('Prénom', 'Jacques-Louis'), ('année1', '1928'), ('année2', '2001'), ('domaine', 'Mathématiques et informatique')]), OrderedDict([('Nom', 'Shannon'), ('Prénom', 'Claude'), ('année1', '1916'), ('année2', '2001'), ('domaine', 'Systèmes et réseaux')]), OrderedDict([('Nom', 'Turing'), ('Prénom', 'Alan'), ('année1', '1912'), ('année2', '1954'), ('domaine', 'Joker')]), OrderedDict([('Nom', 'Hooper'), ('Prénom', 'Grace'), ('année1', '1906'), ('année2', '1992'), ('domaine', 'Algorithmes et programmation')]), OrderedDict([('Nom', 'Lovelace'), ('Prénom', 'Ada'), ('année1', '1815'), ('année2', '1852'), ('domaine', 'Algorithmes et programmation')]), OrderedDict([('Nom', 'Boole'), ('Prénom', 'Georges'), ('année1', '1815'), ('année2', '1864'), ('domaine', 'Mathématiques et informatique')])]\n"
     ]
    }
   ],
   "source": [
    "def annee_naissance(x):\n",
    "    return x[\"année1\"]\n",
    "table_triee_3=sorted(table_dict1,key=annee_naissance, reverse=True)\n",
    "print(table_triee_3)"
   ]
  },
  {
   "cell_type": "markdown",
   "metadata": {},
   "source": [
    "9) Un problème apparaît avec l'ordre d'apparition d'Hypatie d'Alexandrie. Corrigez l'erreur engendrant cela dans les instructions précédentes."
   ]
  },
  {
   "cell_type": "code",
   "execution_count": null,
   "metadata": {
    "collapsed": true
   },
   "outputs": [],
   "source": []
  },
  {
   "cell_type": "markdown",
   "metadata": {},
   "source": [
    "## Ordre lexicographique\n"
   ]
  },
  {
   "cell_type": "markdown",
   "metadata": {},
   "source": [
    "Lorsque l'on trie un tableau selon deux critères, d'abord selon le premier puis à valeur égale selon le second, on appelle cela **l'ordre lexicographique**.\n",
    "\n",
    "Pyton a la particularité de réaliser un ordre lexicographique :"
   ]
  },
  {
   "cell_type": "code",
   "execution_count": 46,
   "metadata": {},
   "outputs": [
    {
     "data": {
      "text/plain": [
       "True"
      ]
     },
     "execution_count": 46,
     "metadata": {},
     "output_type": "execute_result"
    }
   ],
   "source": [
    "(1,3)<(1,4)"
   ]
  },
  {
   "cell_type": "code",
   "execution_count": 47,
   "metadata": {},
   "outputs": [
    {
     "data": {
      "text/plain": [
       "False"
      ]
     },
     "execution_count": 47,
     "metadata": {},
     "output_type": "execute_result"
    }
   ],
   "source": [
    "(1,3)<(1,2) "
   ]
  },
  {
   "cell_type": "code",
   "execution_count": 48,
   "metadata": {},
   "outputs": [
    {
     "data": {
      "text/plain": [
       "True"
      ]
     },
     "execution_count": 48,
     "metadata": {},
     "output_type": "execute_result"
    }
   ],
   "source": [
    "\"abc\"<\"ad\""
   ]
  },
  {
   "cell_type": "code",
   "execution_count": 49,
   "metadata": {},
   "outputs": [
    {
     "data": {
      "text/plain": [
       "True"
      ]
     },
     "execution_count": 49,
     "metadata": {},
     "output_type": "execute_result"
    }
   ],
   "source": [
    "\"123\"<\"13\""
   ]
  },
  {
   "cell_type": "markdown",
   "metadata": {},
   "source": [
    "On peut ainsi, utiliser cette propriété pour trier les personnalités du tableau suivant le domaine dans lequel ils travaillent puis suivant leur ordre alphabétique:"
   ]
  },
  {
   "cell_type": "code",
   "execution_count": 16,
   "metadata": {},
   "outputs": [
    {
     "name": "stdout",
     "output_type": "stream",
     "text": [
      "[OrderedDict([('Nom', 'Berry'), ('Prénom', 'Gérard'), ('année1', '1948'), ('année2', ''), ('domaine', 'Algorithmes et programmation')]), OrderedDict([('Nom', 'Hooper'), ('Prénom', 'Grace'), ('année1', '1906'), ('année2', '1992'), ('domaine', 'Algorithmes et programmation')]), OrderedDict([('Nom', 'Kahn'), ('Prénom', 'Gilles'), ('année1', '1946'), ('année2', '2006'), ('domaine', 'Algorithmes et programmation')]), OrderedDict([('Nom', 'Lovelace'), ('Prénom', 'Ada'), ('année1', '1815'), ('année2', '1852'), ('domaine', 'Algorithmes et programmation')]), OrderedDict([('Nom', 'Turing'), ('Prénom', 'Alan'), ('année1', '1912'), ('année2', '1954'), ('domaine', 'Joker')]), OrderedDict([('Nom', 'Boole'), ('Prénom', 'Georges'), ('année1', '1815'), ('année2', '1864'), ('domaine', 'Mathématiques et informatique')]), OrderedDict([('Nom', 'Daubechies'), ('Prénom', 'Ingrid'), ('année1', '1954'), ('année2', ''), ('domaine', 'Mathématiques et informatique')]), OrderedDict([('Nom', \"Hypatie d'Alexandrie\"), ('Prénom', ''), ('année1', '355'), ('année2', '415'), ('domaine', 'Mathématiques et informatique')]), OrderedDict([('Nom', 'Lions'), ('Prénom', 'Jacques-Louis'), ('année1', '1928'), ('année2', '2001'), ('domaine', 'Mathématiques et informatique')]), OrderedDict([('Nom', 'Berners-Lee'), ('Prénom', 'Tim'), ('année1', '1955'), ('année2', ''), ('domaine', 'Systèmes et réseaux')]), OrderedDict([('Nom', 'Shannon'), ('Prénom', 'Claude'), ('année1', '1916'), ('année2', '2001'), ('domaine', 'Systèmes et réseaux')])]\n"
     ]
    }
   ],
   "source": [
    "def domaine_puis_nom(x):\n",
    "    return (x[\"domaine\"],x[\"Nom\"])\n",
    "table_triee_4=sorted(table_dict1, key=domaine_puis_nom)\n",
    "print(table_triee_4)"
   ]
  },
  {
   "cell_type": "markdown",
   "metadata": {
    "colab_type": "text",
    "id": "-npD4Ce6yUNN"
   },
   "source": [
    "## Fusion de tables"
   ]
  },
  {
   "cell_type": "markdown",
   "metadata": {},
   "source": [
    "### Réunion de tables\n",
    "Une première opération naturelle est de vouloir mettre dans une même table les données de deux tables existantes.\n",
    "On pourrait par exemple ici, compléter notre tableau avec celui-ci :\n",
    "\n",
    "Nom|Prénom|année de naissance|année de décès|domaine\n",
    "---|------|------------------|--------------|-------\n",
    "Minsky|Marvin|1927|2016|Intelligence artificielle\n",
    "LeCun|Yann|1969||Intelligence artificielle\n",
    "Engelbart|Doug|1925|2013|Interaction homme-machine\n",
    "\n",
    "Il est enregistré au format csv dans le fichier \"sept_familles_informatique_2.csv\". "
   ]
  },
  {
   "cell_type": "markdown",
   "metadata": {},
   "source": [
    "Les deux tables ayant les même attributs(en nom et en nombre), il est possible de les réunir en une seule table contenant toutes les valeurs. Nous pouvons le faire en utilisant l'opérateur + sur les tableaux."
   ]
  },
  {
   "cell_type": "code",
   "execution_count": 17,
   "metadata": {
    "collapsed": true
   },
   "outputs": [],
   "source": [
    "fichier2=open(\"sept_familles_informatique_2.csv\")# Ouverture du fichier csv\n",
    "table_dict2=list(csv.DictReader(fichier2))\n",
    "\n",
    "table_complete=table_dict1+table_dict2"
   ]
  },
  {
   "cell_type": "code",
   "execution_count": 18,
   "metadata": {},
   "outputs": [
    {
     "data": {
      "text/plain": [
       "[OrderedDict([('Nom', 'Lovelace'),\n",
       "              ('Prénom', 'Ada'),\n",
       "              ('année1', '1815'),\n",
       "              ('année2', '1852'),\n",
       "              ('domaine', 'Algorithmes et programmation')]),\n",
       " OrderedDict([('Nom', 'Kahn'),\n",
       "              ('Prénom', 'Gilles'),\n",
       "              ('année1', '1946'),\n",
       "              ('année2', '2006'),\n",
       "              ('domaine', 'Algorithmes et programmation')]),\n",
       " OrderedDict([('Nom', 'Hooper'),\n",
       "              ('Prénom', 'Grace'),\n",
       "              ('année1', '1906'),\n",
       "              ('année2', '1992'),\n",
       "              ('domaine', 'Algorithmes et programmation')]),\n",
       " OrderedDict([('Nom', 'Berry'),\n",
       "              ('Prénom', 'Gérard'),\n",
       "              ('année1', '1948'),\n",
       "              ('année2', ''),\n",
       "              ('domaine', 'Algorithmes et programmation')]),\n",
       " OrderedDict([('Nom', 'Boole'),\n",
       "              ('Prénom', 'Georges'),\n",
       "              ('année1', '1815'),\n",
       "              ('année2', '1864'),\n",
       "              ('domaine', 'Mathématiques et informatique')]),\n",
       " OrderedDict([('Nom', 'Lions'),\n",
       "              ('Prénom', 'Jacques-Louis'),\n",
       "              ('année1', '1928'),\n",
       "              ('année2', '2001'),\n",
       "              ('domaine', 'Mathématiques et informatique')]),\n",
       " OrderedDict([('Nom', 'Daubechies'),\n",
       "              ('Prénom', 'Ingrid'),\n",
       "              ('année1', '1954'),\n",
       "              ('année2', ''),\n",
       "              ('domaine', 'Mathématiques et informatique')]),\n",
       " OrderedDict([('Nom', \"Hypatie d'Alexandrie\"),\n",
       "              ('Prénom', ''),\n",
       "              ('année1', '355'),\n",
       "              ('année2', '415'),\n",
       "              ('domaine', 'Mathématiques et informatique')]),\n",
       " OrderedDict([('Nom', 'Shannon'),\n",
       "              ('Prénom', 'Claude'),\n",
       "              ('année1', '1916'),\n",
       "              ('année2', '2001'),\n",
       "              ('domaine', 'Systèmes et réseaux')]),\n",
       " OrderedDict([('Nom', 'Berners-Lee'),\n",
       "              ('Prénom', 'Tim'),\n",
       "              ('année1', '1955'),\n",
       "              ('année2', ''),\n",
       "              ('domaine', 'Systèmes et réseaux')]),\n",
       " OrderedDict([('Nom', 'Turing'),\n",
       "              ('Prénom', 'Alan'),\n",
       "              ('année1', '1912'),\n",
       "              ('année2', '1954'),\n",
       "              ('domaine', 'Joker')]),\n",
       " OrderedDict([('Nom', 'Minsky'),\n",
       "              ('Prénom', 'Marvin'),\n",
       "              ('année1', '1927'),\n",
       "              ('année2', '2016'),\n",
       "              ('domaine', 'Intelligence artificielle')]),\n",
       " OrderedDict([('Nom', 'LeCun'),\n",
       "              ('Prénom', 'Yann'),\n",
       "              ('année1', '1969'),\n",
       "              ('année2', ''),\n",
       "              ('domaine', 'Intelligence artificielle')]),\n",
       " OrderedDict([('Nom', 'Engelbart'),\n",
       "              ('Prénom', 'Doug'),\n",
       "              ('année1', '1925'),\n",
       "              ('année2', '2013'),\n",
       "              ('domaine', 'Interaction homme-machine')])]"
      ]
     },
     "execution_count": 18,
     "metadata": {},
     "output_type": "execute_result"
    }
   ],
   "source": [
    "table_complete"
   ]
  },
  {
   "cell_type": "markdown",
   "metadata": {},
   "source": [
    "### Opération de jointure\n",
    "\n",
    "Nous pouvons cependant aller plus loin et considérer les tables ayant des attributs différents, mais au moins un attribut commun."
   ]
  },
  {
   "cell_type": "markdown",
   "metadata": {
    "colab_type": "text",
    "id": "ZtFtsCAxyUNO"
   },
   "source": [
    "On dispose d'un second fichier \"sept_familles_informatique_2.csv\" contenant les nationalités de chacunes des personnalités étudiées ci-dessus."
   ]
  },
  {
   "cell_type": "code",
   "execution_count": 20,
   "metadata": {},
   "outputs": [
    {
     "data": {
      "text/plain": [
       "[OrderedDict([('Nom', 'Lovelace'),\n",
       "              ('Prénom', 'Ada'),\n",
       "              ('Pays', 'Royaume-Uni')]),\n",
       " OrderedDict([('Nom', 'Kahn'), ('Prénom', 'Gilles'), ('Pays', 'France')]),\n",
       " OrderedDict([('Nom', 'Hopper'), ('Prénom', 'Grace'), ('Pays', 'Etats-Unis')]),\n",
       " OrderedDict([('Nom', 'Berry'), ('Prénom', 'Gérard'), ('Pays', 'France')]),\n",
       " OrderedDict([('Nom', 'Boole'),\n",
       "              ('Prénom', 'Georges'),\n",
       "              ('Pays', 'Royaume-Uni')]),\n",
       " OrderedDict([('Nom', 'Lions'),\n",
       "              ('Prénom', 'Jacques-Louis'),\n",
       "              ('Pays', 'France')]),\n",
       " OrderedDict([('Nom', 'Daubechies'),\n",
       "              ('Prénom', 'Ingrid'),\n",
       "              ('Pays', 'Belgique')]),\n",
       " OrderedDict([('Nom', \"Hypatie d'Alexandrie\"),\n",
       "              ('Prénom', 'Grèce'),\n",
       "              ('Pays', None)]),\n",
       " OrderedDict([('Nom', 'Shannon'),\n",
       "              ('Prénom', 'Claude'),\n",
       "              ('Pays', 'Etats-Unis')]),\n",
       " OrderedDict([('Nom', 'Berners-Lee'),\n",
       "              ('Prénom', 'Tim'),\n",
       "              ('Pays', 'Royaume-Uni')]),\n",
       " OrderedDict([('Nom', 'Turing'), ('Prénom', 'Alan'), ('Pays', 'Royaume-Uni')])]"
      ]
     },
     "execution_count": 20,
     "metadata": {},
     "output_type": "execute_result"
    }
   ],
   "source": [
    "fichier_pays=open(\"sept_familles_informatique_pays.csv\")# Ouverture du fichier csv\n",
    "table_dict_pays=list(csv.DictReader(fichier_pays)) \n",
    "table_dict_pays"
   ]
  },
  {
   "cell_type": "markdown",
   "metadata": {},
   "source": [
    "On souhaite à présent, construire une table donnant pour chaque personnalité informatique, ses nom, prénom, date de naissance, date de décés, domaine et pays d'origine.\n",
    "La première chose à faire est de créer une fonction qui étant donnée une ligne de ` table_dict1 ` et la ligne correspondante de ` table_dict_pays `, crée un nouveau dictionnaire représentant la ligne du résultat. "
   ]
  },
  {
   "cell_type": "code",
   "execution_count": 50,
   "metadata": {
    "collapsed": true
   },
   "outputs": [],
   "source": [
    "def fusion (element1,element2):\n",
    "    '''Votre code'''"
   ]
  },
  {
   "cell_type": "markdown",
   "metadata": {},
   "source": [
    "Créer à présent une fonction permettant de fusionner nos 2 tableaux."
   ]
  },
  {
   "cell_type": "code",
   "execution_count": 54,
   "metadata": {
    "colab": {},
    "colab_type": "code",
    "collapsed": true,
    "id": "P9T_QhguyUNO"
   },
   "outputs": [],
   "source": [
    "def fusionne_tables(table1, table2):\n",
    "    '''votre code'''"
   ]
  },
  {
   "cell_type": "code",
   "execution_count": 59,
   "metadata": {
    "collapsed": true
   },
   "outputs": [],
   "source": [
    "table_dict_fusion=fusionne_tables(table_dict1,table_dict_pays)"
   ]
  },
  {
   "cell_type": "code",
   "execution_count": 60,
   "metadata": {},
   "outputs": [
    {
     "data": {
      "text/plain": [
       "[{'Nom': 'Lovelace',\n",
       "  'Pays': 'Royaume-Uni',\n",
       "  'Prénom': 'Ada',\n",
       "  'année1': '1815',\n",
       "  'année2': '1852',\n",
       "  'domaine': 'Algorithmes et programmation'},\n",
       " {'Nom': 'Kahn',\n",
       "  'Pays': 'France',\n",
       "  'Prénom': 'Gilles',\n",
       "  'année1': '1946',\n",
       "  'année2': '2006',\n",
       "  'domaine': 'Algorithmes et programmation'},\n",
       " {'Nom': 'Berry',\n",
       "  'Pays': 'France',\n",
       "  'Prénom': 'Gérard',\n",
       "  'année1': '1948',\n",
       "  'année2': '',\n",
       "  'domaine': 'Algorithmes et programmation'},\n",
       " {'Nom': 'Boole',\n",
       "  'Pays': 'Royaume-Uni',\n",
       "  'Prénom': 'Georges',\n",
       "  'année1': '1815',\n",
       "  'année2': '1864',\n",
       "  'domaine': 'Mathématiques et informatique'},\n",
       " {'Nom': 'Lions',\n",
       "  'Pays': 'France',\n",
       "  'Prénom': 'Jacques-Louis',\n",
       "  'année1': '1928',\n",
       "  'année2': '2001',\n",
       "  'domaine': 'Mathématiques et informatique'},\n",
       " {'Nom': 'Daubechies',\n",
       "  'Pays': 'Belgique',\n",
       "  'Prénom': 'Ingrid',\n",
       "  'année1': '1954',\n",
       "  'année2': '',\n",
       "  'domaine': 'Mathématiques et informatique'},\n",
       " {'Nom': 'Shannon',\n",
       "  'Pays': 'Etats-Unis',\n",
       "  'Prénom': 'Claude',\n",
       "  'année1': '1916',\n",
       "  'année2': '2001',\n",
       "  'domaine': 'Systèmes et réseaux'},\n",
       " {'Nom': 'Berners-Lee',\n",
       "  'Pays': 'Royaume-Uni',\n",
       "  'Prénom': 'Tim',\n",
       "  'année1': '1955',\n",
       "  'année2': '',\n",
       "  'domaine': 'Systèmes et réseaux'},\n",
       " {'Nom': 'Turing',\n",
       "  'Pays': 'Royaume-Uni',\n",
       "  'Prénom': 'Alan',\n",
       "  'année1': '1912',\n",
       "  'année2': '1954',\n",
       "  'domaine': 'Joker'}]"
      ]
     },
     "execution_count": 60,
     "metadata": {},
     "output_type": "execute_result"
    }
   ],
   "source": [
    "table_dict_fusion"
   ]
  }
 ],
 "metadata": {
  "celltoolbar": "Format de la Cellule Texte Brut",
  "colab": {
   "name": "tables_csv-eleve.ipynb",
   "provenance": [],
   "version": "0.3.2"
  },
  "kernelspec": {
   "display_name": "Python 3",
   "language": "python",
   "name": "python3"
  },
  "language_info": {
   "codemirror_mode": {
    "name": "ipython",
    "version": 3
   },
   "file_extension": ".py",
   "mimetype": "text/x-python",
   "name": "python",
   "nbconvert_exporter": "python",
   "pygments_lexer": "ipython3",
   "version": "3.6.1"
  }
 },
 "nbformat": 4,
 "nbformat_minor": 1
}
