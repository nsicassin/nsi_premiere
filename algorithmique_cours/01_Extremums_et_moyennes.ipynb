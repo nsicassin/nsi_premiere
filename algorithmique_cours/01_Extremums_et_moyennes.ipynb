{
 "cells": [
  {
   "cell_type": "markdown",
   "metadata": {},
   "source": [
    "# Recherche d'extremum dans une liste"
   ]
  },
  {
   "cell_type": "markdown",
   "metadata": {},
   "source": [
    "## Activité débranchée\n",
    "Vous disposez des cartes numérotées 3, 2, 4, 6, 9, 1, 5 disposées dans n'importe quel ordre.\n",
    "\n",
    "Vous disposez aussi d'une carte \"support\" nommée `m`.  \n",
    "\n",
    "![](data/deck.png)\n",
    "\n",
    "\n",
    "1. Exprimer oralement l'algorithme permettant de trouver quelle est la carte portant la valeur maximale.\n",
    "2. Ecrire cet algorithme en langage naturel."
   ]
  },
  {
   "cell_type": "markdown",
   "metadata": {
    "hide_input": true
   },
   "source": [
    "## Création d'une fonction `maximum(liste)`\n",
    "\n",
    "*Attention : nous allons recréer une fonction qui, bien sûr, existe déjà en Python, sous le nom `max()`.*\n",
    "\n",
    "Ecrire l'algorithme en Python.  \n",
    "Il est expressément demandé de construire une fonction nommée `maximum()`, qui prenne en argument une liste, et qui renvoie le plus grand nombre de cette liste.\n",
    "\n",
    "**Exemple d'utilisation :**\n",
    "```python\n",
    ">>> maximum([3,1,6,2])\n",
    ">>> 6\n",
    "```\n"
   ]
  },
  {
   "cell_type": "markdown",
   "metadata": {
    "solution2": "hidden",
    "solution2_first": true
   },
   "source": [
    "*Correction :*"
   ]
  },
  {
   "cell_type": "code",
   "execution_count": 1,
   "metadata": {
    "collapsed": true,
    "solution2": "hidden"
   },
   "outputs": [],
   "source": [
    "def maximum(liste):\n",
    "    '''votre code'''            "
   ]
  },
  {
   "cell_type": "code",
   "execution_count": 2,
   "metadata": {
    "solution2": "hidden"
   },
   "outputs": [
    {
     "data": {
      "text/plain": [
       "7"
      ]
     },
     "execution_count": 2,
     "metadata": {},
     "output_type": "execute_result"
    }
   ],
   "source": [
    "maximum([2,7,5])"
   ]
  },
  {
   "cell_type": "markdown",
   "metadata": {},
   "source": [
    "### Complexité de l'algorithme\n",
    "voir [cours sur la complexité](02_Complexite.ipynb)  \n",
    "L'algorithme de recherche de maximum est de **complexité linéaire**."
   ]
  },
  {
   "cell_type": "markdown",
   "metadata": {},
   "source": [
    "# Calcul de la moyenne des termes d'une liste\n",
    "Créer une fonction `moyenne()` qui prenne en argument une liste et qui renvoie la moyenne des nombres de cette liste."
   ]
  },
  {
   "cell_type": "code",
   "execution_count": null,
   "metadata": {
    "collapsed": true
   },
   "outputs": [],
   "source": []
  }
 ],
 "metadata": {
  "kernelspec": {
   "display_name": "Python 3",
   "language": "python",
   "name": "python3"
  },
  "language_info": {
   "codemirror_mode": {
    "name": "ipython",
    "version": 3
   },
   "file_extension": ".py",
   "mimetype": "text/x-python",
   "name": "python",
   "nbconvert_exporter": "python",
   "pygments_lexer": "ipython3",
   "version": "3.6.1"
  },
  "toc": {
   "base_numbering": 1,
   "nav_menu": {},
   "number_sections": false,
   "sideBar": true,
   "skip_h1_title": false,
   "title_cell": "Table of Contents",
   "title_sidebar": "Contents",
   "toc_cell": false,
   "toc_position": {},
   "toc_section_display": true,
   "toc_window_display": true
  }
 },
 "nbformat": 4,
 "nbformat_minor": 2
}
