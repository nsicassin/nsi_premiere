{
 "cells": [
  {
   "cell_type": "markdown",
   "metadata": {},
   "source": [
    "# Algorithme des k plus proches voisins"
   ]
  },
  {
   "cell_type": "markdown",
   "metadata": {},
   "source": [
    "* Chaque point d'un plan possède une couleur (vert, rouge ou noir) suivant le secteur dans lequel il se trouve.\n",
    "* Les secteurs délimittant les couleurs de points ne sont pas donnés.\n",
    "* Nous connaissons les couleurs d'une collection de points.\n",
    "\n",
    "**Problèmatique :** Deviner la couleur d'un point donné ne faisant pas partie de la collection donnée."
   ]
  },
  {
   "cell_type": "code",
   "execution_count": null,
   "metadata": {},
   "outputs": [],
   "source": [
    "import pandas\n",
    "import matplotlib.pyplot as plt\n",
    "liste=pandas.read_csv(\"liste_points.csv\")\n",
    "x=liste.loc[:,\"x\"]\n",
    "y=liste.loc[:,\"y\"]\n",
    "couleur=liste.loc[:,\"c\"]\n",
    "plt.scatter(x[couleur==0], y[couleur==0], color='g', s=30)\n",
    "plt.scatter(x[couleur==1], y[couleur==1], color='r', s=30)\n",
    "plt.scatter(x[couleur==2], y[couleur==2], color='b', s=30)\n",
    "plt.show()"
   ]
  },
  {
   "cell_type": "markdown",
   "metadata": {},
   "source": [
    "Dans l'exemple ci-dessous, un point a été rajouté. De quelle couleur sera-t-il ?"
   ]
  },
  {
   "cell_type": "code",
   "execution_count": null,
   "metadata": {},
   "outputs": [],
   "source": [
    "plt.scatter(x[couleur==0], y[couleur==0], color='g', s=30)\n",
    "plt.scatter(x[couleur==1], y[couleur==1], color='r', s=30)\n",
    "plt.scatter(x[couleur==2], y[couleur==2], color='b', s=30)\n",
    "plt.scatter(2.85,3.3,c='w',edgecolors='black')\n",
    "plt.show()"
   ]
  },
  {
   "cell_type": "markdown",
   "metadata": {},
   "source": [
    "Tous les cas ne sont pas aussi faciles. Que pensez-vous de la couleur du nouveau point ajouté ?"
   ]
  },
  {
   "cell_type": "code",
   "execution_count": null,
   "metadata": {
    "collapsed": true
   },
   "outputs": [],
   "source": [
    "plt.scatter(x[couleur==0], y[couleur==0], color='g', s=30)\n",
    "plt.scatter(x[couleur==1], y[couleur==1], color='r', s=30)\n",
    "plt.scatter(x[couleur==2], y[couleur==2], color='b', s=30)\n",
    "plt.scatter(2.93,5.59,c='w',edgecolors='black')\n",
    "plt.show()"
   ]
  },
  {
   "cell_type": "markdown",
   "metadata": {},
   "source": [
    "Pouvez-vous proposer une méthode permettant de traiter ce cas ? \n",
    "\n",
    "En dégager un algorithme permettant de traiter n'importe quel cas."
   ]
  },
  {
   "cell_type": "markdown",
   "metadata": {},
   "source": [
    "## Algorithme des k plus proches voisins :\n",
    "\n",
    "* On calcule la distance entre le point étudié et chaque point issu du jeu de données.\n",
    "* On sélectionne uniquement les k distances les plus petites (les k plus proches voisins)\n",
    "* Parmi les k plus proches voisins , on détermine la couleur majoritaire."
   ]
  },
  {
   "cell_type": "markdown",
   "metadata": {},
   "source": [
    "### influence du paramètre k :\n"
   ]
  },
  {
   "cell_type": "markdown",
   "metadata": {},
   "source": [
    "Si $k=1$ le point étudié prendra la couleur du point le plus proche : ici Bleu."
   ]
  },
  {
   "cell_type": "code",
   "execution_count": null,
   "metadata": {},
   "outputs": [],
   "source": [
    "plt.scatter(x[couleur==0], y[couleur==0], color='g', s=30)\n",
    "plt.scatter(x[couleur==1], y[couleur==1], color='r', s=30)\n",
    "plt.scatter(x[couleur==2], y[couleur==2], color='b', s=30)\n",
    "plt.scatter(2.93,5.59,c='w',edgecolors='black')\n",
    "plt.plot([2.72,2.93],[6.17,5.59],'k--', lw=1)\n",
    "plt.show()"
   ]
  },
  {
   "cell_type": "markdown",
   "metadata": {},
   "source": [
    "Si $k=2$, une couleur n'étant pas majoritaire, nous devons la choisir arbitrairement ou aléatoirement :"
   ]
  },
  {
   "cell_type": "code",
   "execution_count": null,
   "metadata": {},
   "outputs": [],
   "source": [
    "plt.scatter(x[couleur==0], y[couleur==0], color='g', s=30)\n",
    "plt.scatter(x[couleur==1], y[couleur==1], color='r', s=30)\n",
    "plt.scatter(x[couleur==2], y[couleur==2], color='b', s=30)\n",
    "plt.scatter(2.93,5.59,c='w',edgecolors='black')\n",
    "plt.plot([2.72,2.93],[6.17,5.59],'k--', lw=1)\n",
    "plt.plot([2.26,2.93],[5.29,5.59],'k--', lw=1)\n",
    "plt.show()"
   ]
  },
  {
   "cell_type": "markdown",
   "metadata": {},
   "source": [
    "Si $k=3$, la couleur majoritaire est cette fois le Vert :"
   ]
  },
  {
   "cell_type": "code",
   "execution_count": null,
   "metadata": {},
   "outputs": [],
   "source": [
    "plt.scatter(x[couleur==0], y[couleur==0], color='g', s=30)\n",
    "plt.scatter(x[couleur==1], y[couleur==1], color='r', s=30)\n",
    "plt.scatter(x[couleur==2], y[couleur==2], color='b', s=30)\n",
    "plt.scatter(2.93,5.59,c='w',edgecolors='black')\n",
    "plt.plot([2.72,2.93],[6.17,5.59],'k--', lw=1)\n",
    "plt.plot([2.26,2.93],[5.29,5.59],'k--', lw=1)\n",
    "plt.plot([1.96,2.93],[4.67,5.59],'k--', lw=1)\n",
    "plt.show()"
   ]
  },
  {
   "cell_type": "markdown",
   "metadata": {},
   "source": [
    "## Implémentation de l'algorithme."
   ]
  },
  {
   "cell_type": "markdown",
   "metadata": {},
   "source": [
    "### Fonction distance\n",
    "\n",
    "Ecrire une fonction *distance* qui prend en argument deux tableaux de coordonnées de 2 points et qui renvoie la distance entre ces deux points."
   ]
  },
  {
   "cell_type": "code",
   "execution_count": null,
   "metadata": {
    "collapsed": true
   },
   "outputs": [],
   "source": []
  },
  {
   "cell_type": "markdown",
   "metadata": {},
   "source": [
    "### Recherche des k plus proches voisins\n",
    "\n",
    "Ecrire une fonction *k_voisins* qui prend en argument une liste L de tableaux de coordonnées de points, un entier k (nombre de voisins) et un tableau représentant les 2 coordonnées représentant la position du nouvel élément. Cette fonction renverra la liste des indices dans L des k plus proches voisins de x (où x ne fait pas partie de la liste) "
   ]
  },
  {
   "cell_type": "code",
   "execution_count": null,
   "metadata": {
    "collapsed": true
   },
   "outputs": [],
   "source": []
  },
  {
   "cell_type": "code",
   "execution_count": null,
   "metadata": {},
   "outputs": [],
   "source": [
    "x=[2.93, 5.59]\n",
    "k_voisins(liste,3,x)"
   ]
  },
  {
   "cell_type": "markdown",
   "metadata": {},
   "source": [
    "### Attribution de classe\n",
    "\n",
    "Ecrire une fonction ` predire_classe ` qui détermine le résultat majoritaire des classes d'appartenance (ici les couleurs) des `k` plus proches voisins et assigne la classe du nouvel élément à cette clase majoritaire.\n",
    "Cette fonction admet en argument d'entrée une liste `L` de "
   ]
  },
  {
   "cell_type": "code",
   "execution_count": null,
   "metadata": {
    "collapsed": true
   },
   "outputs": [],
   "source": []
  },
  {
   "cell_type": "code",
   "execution_count": null,
   "metadata": {},
   "outputs": [],
   "source": [
    "Predire_classe(liste,3,x)"
   ]
  },
  {
   "cell_type": "code",
   "execution_count": null,
   "metadata": {},
   "outputs": [],
   "source": [
    "Predire_classe(liste,2,x)"
   ]
  },
  {
   "cell_type": "code",
   "execution_count": null,
   "metadata": {
    "collapsed": true
   },
   "outputs": [],
   "source": [
    "Predire_classe(liste,1,x)"
   ]
  }
 ],
 "metadata": {
  "kernelspec": {
   "display_name": "Python 3",
   "language": "python",
   "name": "python3"
  },
  "language_info": {
   "codemirror_mode": {
    "name": "ipython",
    "version": 3
   },
   "file_extension": ".py",
   "mimetype": "text/x-python",
   "name": "python",
   "nbconvert_exporter": "python",
   "pygments_lexer": "ipython3",
   "version": "3.6.1"
  }
 },
 "nbformat": 4,
 "nbformat_minor": 2
}
